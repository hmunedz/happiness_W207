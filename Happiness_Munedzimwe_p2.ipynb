{
 "cells": [
  {
   "cell_type": "markdown",
   "metadata": {},
   "source": [
    "# Project 2: Topic Classification"
   ]
  },
  {
   "cell_type": "markdown",
   "metadata": {},
   "source": [
    "In this project, you'll work with text data from newsgroup postings on a variety of topics. You'll train classifiers to distinguish between the topics based on the text of the posts. Whereas with digit classification, the input is relatively dense: a 28x28 matrix of pixels, many of which are non-zero, here we'll represent each document with a \"bag-of-words\" model. As you'll see, this makes the feature representation quite sparse -- only a few words of the total vocabulary are active in any given document. The bag-of-words assumption here is that the label depends only on the words; their order is not important.\n",
    "\n",
    "The SK-learn documentation on feature extraction will prove useful:\n",
    "http://scikit-learn.org/stable/modules/feature_extraction.html\n",
    "\n",
    "Each problem can be addressed succinctly with the included packages -- please don't add any more. Grading will be based on writing clean, commented code, along with a few short answers.\n",
    "\n",
    "As always, you're welcome to work on the project in groups and discuss ideas on the course wall, but please prepare your own write-up and write your own code."
   ]
  },
  {
   "cell_type": "code",
   "execution_count": 3,
   "metadata": {
    "collapsed": false
   },
   "outputs": [],
   "source": [
    "# This tells matplotlib not to try opening a new window for each plot.\n",
    "%matplotlib inline\n",
    "\n",
    "# General libraries.\n",
    "import re\n",
    "import numpy as np\n",
    "import matplotlib.pyplot as plt\n",
    "\n",
    "# SK-learn libraries for learning.\n",
    "from sklearn.pipeline import Pipeline\n",
    "from sklearn.neighbors import KNeighborsClassifier\n",
    "from sklearn.linear_model import LogisticRegression\n",
    "from sklearn.naive_bayes import BernoulliNB\n",
    "from sklearn.naive_bayes import MultinomialNB\n",
    "from sklearn.grid_search import GridSearchCV\n",
    "\n",
    "# SK-learn libraries for evaluation.\n",
    "from sklearn.metrics import confusion_matrix\n",
    "from sklearn import metrics\n",
    "from sklearn.metrics import classification_report\n",
    "\n",
    "# SK-learn library for importing the newsgroup data.\n",
    "from sklearn.datasets import fetch_20newsgroups\n",
    "\n",
    "# SK-learn libraries for feature extraction from text.\n",
    "from sklearn.feature_extraction.text import *"
   ]
  },
  {
   "cell_type": "markdown",
   "metadata": {},
   "source": [
    "Load the data, stripping out metadata so that we learn classifiers that only use textual features. By default, newsgroups data is split into train and test sets. We further split the test so we have a dev set. Note that we specify 4 categories to use for this project. If you remove the categories argument from the fetch function, you'll get all 20 categories."
   ]
  },
  {
   "cell_type": "code",
   "execution_count": 5,
   "metadata": {
    "collapsed": false
   },
   "outputs": [
    {
     "name": "stdout",
     "output_type": "stream",
     "text": [
      "training label shape: (2034L,)\n",
      "test label shape: (677L,)\n",
      "dev label shape: (676L,)\n",
      "labels names: ['alt.atheism', 'comp.graphics', 'sci.space', 'talk.religion.misc']\n"
     ]
    }
   ],
   "source": [
    "categories = ['alt.atheism', 'talk.religion.misc', 'comp.graphics', 'sci.space']\n",
    "newsgroups_train = fetch_20newsgroups(subset='train',\n",
    "                                      remove=('headers', 'footers', 'quotes'),\n",
    "                                      categories=categories)\n",
    "newsgroups_test = fetch_20newsgroups(subset='test',\n",
    "                                     remove=('headers', 'footers', 'quotes'),\n",
    "                                     categories=categories)\n",
    "\n",
    "num_test = len(newsgroups_test.target)\n",
    "test_data, test_labels = newsgroups_test.data[num_test/2:], newsgroups_test.target[num_test/2:]\n",
    "dev_data, dev_labels = newsgroups_test.data[:num_test/2], newsgroups_test.target[:num_test/2]\n",
    "train_data, train_labels = newsgroups_train.data, newsgroups_train.target\n",
    "\n",
    "print 'training label shape:', train_labels.shape\n",
    "print 'test label shape:', test_labels.shape\n",
    "print 'dev label shape:', dev_labels.shape\n",
    "print 'labels names:', newsgroups_train.target_names"
   ]
  },
  {
   "cell_type": "markdown",
   "metadata": {},
   "source": [
    "(1) For each of the first 5 training examples, print the text of the message along with the label."
   ]
  },
  {
   "cell_type": "code",
   "execution_count": 139,
   "metadata": {
    "collapsed": false
   },
   "outputs": [
    {
     "name": "stdout",
     "output_type": "stream",
     "text": [
      "1  :  comp.graphics \n",
      "Hi,\n",
      "\n",
      "I've noticed that if you only save a model (with all your mapping planes\n",
      "positioned carefully) to a .3DS file that when you reload it after restarting\n",
      "3DS, they are given a default position and orientation.  But if you save\n",
      "to a .PRJ file their positions/orientation are preserved.  Does anyone\n",
      "know why this information is not stored in the .3DS file?  Nothing is\n",
      "explicitly said in the manual about saving texture rules in the .PRJ file. \n",
      "I'd like to be able to read the texture rule information, does anyone have \n",
      "the format for the .PRJ file?\n",
      "\n",
      "Is the .CEL file format available from somewhere?\n",
      "\n",
      "Rych \n",
      "\n",
      "3  :  talk.religion.misc \n",
      "\n",
      "\n",
      "Seems to be, barring evidence to the contrary, that Koresh was simply\n",
      "another deranged fanatic who thought it neccessary to take a whole bunch of\n",
      "folks with him, children and all, to satisfy his delusional mania. Jim\n",
      "Jones, circa 1993.\n",
      "\n",
      "\n",
      "Nope - fruitcakes like Koresh have been demonstrating such evil corruption\n",
      "for centuries. \n",
      "\n",
      "2  :  sci.space \n",
      "\n",
      " >In article <1993Apr19.020359.26996@sq.sq.com>, msb@sq.sq.com (Mark Brader) \n",
      "\n",
      "MB>                                                             So the\n",
      "MB> 1970 figure seems unlikely to actually be anything but a perijove.\n",
      "\n",
      "JG>Sorry, _perijoves_...I'm not used to talking this language.\n",
      "\n",
      "Couldn't we just say periapsis or apoapsis?\n",
      "\n",
      "  \n",
      "\n",
      "0  :  alt.atheism \n",
      "I have a request for those who would like to see Charley Wingate\n",
      "respond to the \"Charley Challenges\" (and judging from my e-mail, there\n",
      "appear to be quite a few of you.)  \n",
      "\n",
      "It is clear that Mr. Wingate intends to continue to post tangential or\n",
      "unrelated articles while ingoring the Challenges themselves.  Between\n",
      "the last two re-postings of the Challenges, I noted perhaps a dozen or\n",
      "more posts by Mr. Wingate, none of which answered a single Challenge.  \n",
      "\n",
      "It seems unmistakable to me that Mr. Wingate hopes that the questions\n",
      "will just go away, and he is doing his level best to change the\n",
      "subject.  Given that this seems a rather common net.theist tactic, I\n",
      "would like to suggest that we impress upon him our desire for answers,\n",
      "in the following manner:\n",
      "\n",
      "1. Ignore any future articles by Mr. Wingate that do not address the\n",
      "Challenges, until he answers them or explictly announces that he\n",
      "refuses to do so.\n",
      "\n",
      "--or--\n",
      "\n",
      "2. If you must respond to one of his articles, include within it\n",
      "something similar to the following:\n",
      "\n",
      "    \"Please answer the questions posed to you in the Charley Challenges.\"\n",
      "\n",
      "Really, I'm not looking to humiliate anyone here, I just want some\n",
      "honest answers.  You wouldn't think that honesty would be too much to\n",
      "ask from a devout Christian, would you?  \n",
      "\n",
      "Nevermind, that was a rhetorical question. \n",
      "\n",
      "2  :  sci.space \n",
      "AW&ST  had a brief blurb on a Manned Lunar Exploration confernce\n",
      "May 7th  at Crystal City Virginia, under the auspices of AIAA.\n",
      "\n",
      "Does anyone know more about this?  How much, to attend????\n",
      "\n",
      "Anyone want to go? \n",
      "\n"
     ]
    }
   ],
   "source": [
    "def P1(num_examples=5):\n",
    "### STUDENT START ###\n",
    "    for i in range(num_examples):\n",
    "        print train_labels[i], ' : ',  newsgroups_train.target_names[train_labels[i]], '\\n',  train_data[i], '\\n'\n",
    "### STUDENT END ###\n",
    "P1()"
   ]
  },
  {
   "cell_type": "markdown",
   "metadata": {},
   "source": [
    "(2) Use CountVectorizer to turn the raw training text into feature vectors. You should use the fit_transform function, which makes 2 passes through the data: first it computes the vocabulary (\"fit\"), second it converts the raw text into feature vectors using the vocabulary (\"transform\").\n",
    "\n",
    "The vectorizer has a lot of options. To get familiar with some of them, write code to answer these questions:\n",
    "\n",
    "a. The output of the transform (also of fit_transform) is a sparse matrix: http://docs.scipy.org/doc/scipy-0.14.0/reference/generated/scipy.sparse.csr_matrix.html. What is the size of the vocabulary? What is the average number of non-zero features per example? What fraction of the entries in the matrix are non-zero? Hint: use \"nnz\" and \"shape\" attributes.\n",
    "\n",
    "b. What are the 0th and last feature strings (in alphabetical order)? Hint: use the vectorizer's get_feature_names function.\n",
    "\n",
    "c. Specify your own vocabulary with 4 words: [\"atheism\", \"graphics\", \"space\", \"religion\"]. Confirm the training vectors are appropriately shaped. Now what's the average number of non-zero features per example?\n",
    "\n",
    "d. Instead of extracting unigram word features, use \"analyzer\" and \"ngram_range\" to extract bigram and trigram character features. What size vocabulary does this yield?\n",
    "\n",
    "e. Use the \"min_df\" argument to prune words that appear in fewer than 10 documents. What size vocabulary does this yield?\n",
    "\n",
    "f. Using the standard CountVectorizer, what fraction of the words in the dev data are missing from the vocabulary? Hint: build a vocabulary for both train and dev and look at the size of the difference."
   ]
  },
  {
   "cell_type": "code",
   "execution_count": 142,
   "metadata": {
    "collapsed": false
   },
   "outputs": [
    {
     "name": "stdout",
     "output_type": "stream",
     "text": [
      "\n",
      "non-zeros: 196700  shape: (2034, 26879)  avg non-zeros: 96.7059980334  sorted?: 0\n",
      "\n",
      "zeroth feature:  00  last feature:  zyxel\n",
      "\n",
      "non-zeros: 4  shape: (4, 4)  avg non-zeros: 1.0\n",
      "\n",
      "With bigram and trigrams, vocab is: 510583\n",
      "\n",
      "With constraint of min. documents of 10, vocab is: 3381\n",
      "\n",
      "vocab(train data): 26879 vocab(dev data): 16246  Difference is: 10633 as a fraction: 0.395587633469\n"
     ]
    }
   ],
   "source": [
    "def P2():\n",
    "    ### STUDENT START ###\n",
    "    #--a Fitting and Transforming the text into numerical matrices\n",
    "    vectorizer = CountVectorizer(min_df=1)\n",
    "    X = vectorizer.fit_transform(train_data)\n",
    "    print '\\nnon-zeros:',  X.nnz, ' shape:',  X.shape, ' avg non-zeros:', X.nnz / float(X.shape[0]), ' sorted?:', X.has_sorted_indices\n",
    "\n",
    "    #--b Getting original lables for train-data\n",
    "    Y = vectorizer.get_feature_names()\n",
    "    print '\\nzeroth feature: ' , Y[0], ' last feature: ', Y[len(Y)-1]\n",
    "\n",
    "    #--c  -- dummy matric to prove the shape  of the training vectors\n",
    "    own_vocab = (['atheism', 'graphics', 'space', 'religion'])\n",
    "    own_X = vectorizer.fit_transform(own_vocab)\n",
    "    print '\\nnon-zeros:',  own_X.nnz, ' shape:',  own_X.shape, ' avg non-zeros:', own_X.nnz / float(own_X.shape[0])\n",
    "\n",
    "    #--d Switching the fitting from unigrams to bi and trigrams\n",
    "    ngram_vectorizer = CountVectorizer(ngram_range=(2, 3), analyzer='word', min_df=1)\n",
    "    M = ngram_vectorizer.fit_transform(train_data)\n",
    "    print '\\nWith bigram and trigrams, vocab is:',  M.shape[1]\n",
    "\n",
    "    #--e Restricting minimum training features to be from at least 10 documents\n",
    "    ngram_vectorizer_df = CountVectorizer(ngram_range=(2, 3), analyzer='word', min_df=10)\n",
    "    D = ngram_vectorizer_df.fit_transform(train_data)\n",
    "    print '\\nWith constraint of min. documents of 10, vocab is:',  D.shape[1]\n",
    "\n",
    "    #--f Using default count vectorizer properties to establish dev and train data vocab differences \n",
    "    H = vectorizer.fit_transform(dev_data)\n",
    "    print '\\nvocab(train data):', X.shape[1], 'vocab(dev data):', H.shape[1], ' Difference is:', (X.shape[1]-H.shape[1]), 'as a fraction:', float((X.shape[1]-H.shape[1]))/(X.shape[1]) \n",
    "    ### STUDENT END ###\n",
    "P2()"
   ]
  },
  {
   "cell_type": "markdown",
   "metadata": {},
   "source": [
    "(3) Use the default CountVectorizer options and report the f1 score (use metrics.f1_score) for a k nearest neighbors classifier; find the optimal value for k. Also fit a Multinomial Naive Bayes model and find the optimal value for alpha. Finally, fit a logistic regression model and find the optimal value for the regularization strength C using l2 regularization. A few questions:\n",
    "\n",
    "a. Why doesn't nearest neighbors work well for this problem?\n",
    "\n",
    "ANS: Because of the nature of language. Syntax, which is to say word groupings, does not vary by topic and is not unique to a topic except the use of a few special dictions\n",
    "\n",
    "b. Any ideas why logistic regression doesn't work as well as Naive Bayes?\n",
    "\n",
    "ANS: Logistic regression works best when there are few, dominant features and the absolute probabilities are large. Naive Bayes has more resolution and works better where there is a spread.\n",
    "\n",
    "c. Logistic regression estimates a weight vector for each class, which you can access with the coef\\_ attribute. Output the sum of the squared weight values for each class for each setting of the C parameter. Briefly explain the relationship between the sum and the value of C.\n",
    "\n",
    "ANS:  The larger the C, the larger the sum of the squared weights "
   ]
  },
  {
   "cell_type": "code",
   "execution_count": 144,
   "metadata": {
    "collapsed": false,
    "scrolled": true
   },
   "outputs": [
    {
     "name": "stdout",
     "output_type": "stream",
     "text": [
      "k-value: 1 f1 score: 0.380503001853\n",
      "k-value: 2 f1 score: 0.380542124044\n",
      "k-value: 3 f1 score: 0.408415022544\n",
      "k-value: 4 f1 score: 0.403122799385\n",
      "k-value: 5 f1 score: 0.428760723622\n",
      "k-value: 6 f1 score: 0.446665054087\n",
      "k-value: 7 f1 score: 0.450479100061\n",
      "k-value: 8 f1 score: 0.446983581171\n",
      "k-value: 9 f1 score: 0.43656661762\n",
      "k-value: 10 f1 score: 0.427850290594\n",
      "Optimal k-value = 7, with an f1-score=0.450. \n",
      "\n",
      "alpha: 0.0 f1 score: 0.374977827703\n",
      "alpha: 0.0001 f1 score: 0.762834870483\n",
      "alpha: 0.001 f1 score: 0.770251883616\n",
      "alpha: 0.01 f1 score: 0.775166321854\n",
      "alpha: 0.1 f1 score: 0.79030523851\n",
      "alpha: 0.5 f1 score: 0.7862862962\n",
      "alpha: 1.0 f1 score: 0.777732023602\n",
      "alpha: 2.0 f1 score: 0.768996647234\n",
      "alpha: 10.0 f1 score: 0.667481433826\n",
      "Optimal alpha=0.1 with an f1-score=0.790. \n",
      "\n",
      "\n",
      "C: 100000.0 f1 score: 0.680147626545\n",
      "class:1: 2624.0387608 class:2: 2269.15106905 class:3: 3209.38075587 class:4: 3501.001475\n",
      "\n",
      "C: 10000.0 f1 score: 0.685522363993\n",
      "class:1: 3628.93154986 class:2: 2814.72343565 class:3: 3328.35906001 class:4: 3467.23737702\n",
      "\n",
      "C: 1000.0 f1 score: 0.681655000613\n",
      "class:1: 2670.69714543 class:2: 2031.17575104 class:3: 2353.0876718 class:4: 2535.345931\n",
      "\n",
      "C: 100.0 f1 score: 0.679963855828\n",
      "class:1: 1421.02050813 class:2: 1100.8628837 class:3: 1288.57606935 class:4: 1314.8922459\n",
      "\n",
      "C: 10.0 f1 score: 0.685103677948\n",
      "class:1: 586.368075074 class:2: 448.358598019 class:3: 539.979482785 class:4: 531.050679223\n",
      "\n",
      "C: 1 f1 score: 0.694417287185\n",
      "class:1: 166.994591147 class:2: 130.930579234 class:3: 158.008938866 class:4: 145.764871278\n",
      "\n",
      "C: 0.1 f1 score: 0.696624354242\n",
      "class:1: 27.1293104358 class:2: 24.6530218546 class:3: 27.4607411764 class:4: 23.025586748\n",
      "\n",
      "C: 0.01 f1 score: 0.664699741758\n",
      "class:1: 2.54150688898 class:2: 2.93970936836 class:3: 2.8624690992 class:4: 2.24980491521\n",
      "\n",
      "C: 0.001 f1 score: 0.619304681201\n",
      "class:1: 0.16509345171 class:2: 0.200952746906 class:3: 0.180670937525 class:4: 0.187242784378\n",
      "\n",
      "C: 0.0001 f1 score: 0.541600321884\n",
      "class:1: 0.00770174944675 class:2: 0.0119412003106 class:3: 0.00943507686564 class:4: 0.00910283529383\n",
      "\n",
      "C: 1e-05 f1 score: 0.365193167402\n",
      "class:1: 0.000313507797655 class:2: 0.000610126533007 class:3: 0.000384829388889 class:4: 0.000341456612161\n",
      "Optimal C=0.1 with an f1-score=0.697. \n",
      "\n"
     ]
    }
   ],
   "source": [
    "def P3():\n",
    "    ### STUDENT START ###\n",
    "    vectorizer = CountVectorizer(min_df=1)\n",
    "    train_data_vectorized = vectorizer.fit_transform(train_data)\n",
    "    dev_data_vectorized = vectorizer.transform(dev_data)\n",
    "\n",
    "    # knn\n",
    "    # arbitrarily chose 1-10 neighbors to loop through\n",
    "    for i in range (1, 11):\n",
    "        knn_params = KNeighborsClassifier(n_neighbors= i, metric='minkowski', p = 2) \n",
    "        # train knn classifier\n",
    "        knn_fit = knn_params.fit(train_data_vectorized, train_labels)\n",
    "        # for each k-value, print perfomance metrics\n",
    "        predKnn =  knn_fit.predict(dev_data_vectorized)\n",
    "        print 'k-value:', i , 'f1 score:', metrics.f1_score(dev_labels, predKnn, average='weighted')\n",
    "    print 'Optimal k-value = 7, with an f1-score=0.450. \\n'\n",
    "\n",
    "    # multinomial NB\n",
    "    # chose seveal values of  alpha spanning a couple of orders to evaluate\n",
    "    alphas =[0.0, 0.0001, 0.001, 0.01, 0.1, 0.5, 1.0, 2.0, 10.0]\n",
    "    for i in range (len(alphas)):    \n",
    "        Mclf = MultinomialNB(alpha=alphas[i])\n",
    "        Mclf_fit = Mclf.fit(train_data_vectorized, train_labels)\n",
    "        predMNB =  Mclf_fit.predict(dev_data_vectorized)\n",
    "        print 'alpha:', alphas[i], 'f1 score:', metrics.f1_score(dev_labels, predMNB, average='weighted')\n",
    "    print 'Optimal alpha=0.1 with an f1-score=0.790. \\n'\n",
    "\n",
    "    #logistic regression\n",
    "    Cs = [1e5, 1e4, 1e3, 1e2, 1e1, 1, 1e-1, 1e-2, 1e-3, 1e-4, 1e-5]\n",
    "    for i in range (len(Cs)):\n",
    "        logf= LogisticRegression(penalty='l2', C=Cs[i])\n",
    "        log_fit= logf.fit(train_data_vectorized, train_labels)\n",
    "        predlog =  log_fit.predict(dev_data_vectorized)\n",
    "        print '\\n', 'C:', Cs[i],'f1 score:', metrics.f1_score(dev_labels, predlog, average='weighted')\n",
    "        print \"class:1:\", sum(pow(log_fit.coef_[0], 2)), \"class:2:\", sum(pow(log_fit.coef_[1], 2)), \"class:3:\", sum(pow(log_fit.coef_[2], 2)), \"class:4:\", sum(pow(log_fit.coef_[3], 2))\n",
    "    print 'Optimal C=0.1 with an f1-score=0.697. \\n'   \n",
    "\n",
    "### STUDENT END ###\n",
    "P3()"
   ]
  },
  {
   "cell_type": "markdown",
   "metadata": {},
   "source": [
    "ANSWER:"
   ]
  },
  {
   "cell_type": "markdown",
   "metadata": {},
   "source": [
    "(4) Train a logistic regression model. Find the 5 features with the largest weights for each label -- 20 features in total. Create a table with 20 rows and 4 columns that shows the weight for each of these features for each of the labels. Create the table again with bigram features. Any surprising features in this table?"
   ]
  },
  {
   "cell_type": "code",
   "execution_count": 145,
   "metadata": {
    "collapsed": false
   },
   "outputs": [
    {
     "name": "stdout",
     "output_type": "stream",
     "text": [
      "\n",
      "|  feature  |   alt.atheism  |  comp.graphics  |  sci.space  |  talk.religion.misc  |\n",
      "atheism  |  0.495418356796  |  -0.207325630215  |  -0.199941614282  |  -0.267754467218  |\n",
      "religion  |  0.494077150295  |  -0.298757335164  |  -0.3932368874  |  0.00392538451667  |\n",
      "bobby  |  0.478243383208  |  -0.120402716857  |  -0.16789623251  |  -0.22782902043  |\n",
      "atheists  |  0.461117113844  |  -0.0793601633718  |  -0.158353196395  |  -0.295276401438  |\n",
      "islam  |  0.426406272369  |  -0.0848390127703  |  -0.165086290613  |  -0.164906119095  |\n",
      "graphics  |  -0.411184655658  |  1.00737234387  |  -0.651167218264  |  -0.372234034171  |\n",
      "image  |  -0.263467734536  |  0.641990191736  |  -0.36761726718  |  -0.216178532876  |\n",
      "file  |  -0.17728920947  |  0.641100294104  |  -0.421568504325  |  -0.288273762203  |\n",
      "computer  |  -0.0398300853404  |  0.559031049019  |  -0.329120157129  |  -0.228690702954  |\n",
      "3d  |  -0.182003018061  |  0.546926455409  |  -0.311652540329  |  -0.18144038333  |\n",
      "space  |  -0.65522186367  |  -0.713690655131  |  1.25878401642  |  -0.5902510683  |\n",
      "orbit  |  -0.217594311146  |  -0.334068907908  |  0.597424264896  |  -0.248951860897  |\n",
      "nasa  |  -0.273393342647  |  -0.261659783847  |  0.540777959685  |  -0.25310358163  |\n",
      "launch  |  -0.21077483085  |  -0.244619741269  |  0.478993415367  |  -0.16905692144  |\n",
      "moon  |  -0.202885659848  |  -0.291503068123  |  0.403093366812  |  -0.0564189691414  |\n",
      "christian  |  -0.262317081167  |  -0.190389548678  |  -0.194547303554  |  0.547583280477  |\n",
      "christians  |  -0.33087203026  |  -0.162636091727  |  -0.203067016817  |  0.499445855175  |\n",
      "blood  |  -0.208254316309  |  -0.0632113319113  |  -0.0975904351687  |  0.433849998216  |\n",
      "order  |  -0.354660881968  |  -0.037634874193  |  -0.0819040180946  |  0.429065306847  |\n",
      "fbi  |  -0.127863209761  |  -0.111715086976  |  -0.220538571155  |  0.422101426796  |\n",
      "\n",
      "|  feature  |   alt.atheism  |  comp.graphics  |  sci.space  |  talk.religion.misc  |\n",
      "cheers kent  |  0.314806549893  |  -0.366996601293  |  -0.35532622168  |  0.329546735818  |\n",
      "in this  |  0.297923464768  |  -0.0263127346233  |  -0.295851231055  |  -0.06521771269  |\n",
      "is not  |  0.296119066876  |  -0.146019249211  |  -0.287446189834  |  0.0309414679646  |\n",
      "claim that  |  0.285116324931  |  -0.102315336014  |  -0.140063759375  |  -0.0556760863776  |\n",
      "are you  |  0.277470636476  |  -0.144998239416  |  -0.0787350916664  |  -0.14701701245  |\n",
      "looking for  |  -0.383644611463  |  0.67122890296  |  -0.292240001295  |  -0.327732665137  |\n",
      "in advance  |  -0.282799187247  |  0.525637335253  |  -0.258337254051  |  -0.245845114619  |\n",
      "out there  |  -0.175383671269  |  0.462999634874  |  -0.27490235993  |  -0.16380122163  |\n",
      "is there  |  -0.176669572351  |  0.415801167428  |  -0.274604658582  |  -0.122942789401  |\n",
      "comp graphics  |  -0.152039743816  |  0.382669658367  |  -0.203533819036  |  -0.127419213455  |\n",
      "the moon  |  -0.231810389254  |  -0.309015095318  |  0.56289142852  |  -0.157131020059  |\n",
      "the space  |  -0.172212330406  |  -0.289122760731  |  0.524645308191  |  -0.171618189271  |\n",
      "and such  |  -0.123206037669  |  -0.202603410054  |  0.37020211756  |  -0.135291373288  |\n",
      "sci space  |  -0.147056822241  |  -0.202698146365  |  0.367723083519  |  -0.124179688782  |\n",
      "it was  |  -0.105406894741  |  -0.200364489846  |  0.32821192315  |  -0.167428626456  |\n",
      "cheers kent  |  0.314806549893  |  -0.366996601293  |  -0.35532622168  |  0.329546735818  |\n",
      "the fbi  |  -0.071425625499  |  -0.112654774987  |  -0.162918391539  |  0.32027437909  |\n",
      "with you  |  -0.116105542397  |  -0.00913410231253  |  -0.182094160555  |  0.273992595469  |\n",
      "the word  |  0.017182277653  |  -0.138738362623  |  -0.156159571114  |  0.255366857451  |\n",
      "jesus christ  |  -0.107958993344  |  -0.0870352449952  |  -0.114936955479  |  0.245855474581  |\n",
      "\n",
      " Surprising result: With Bigrams lots of uninformative frequntly use English articles and prepositions, yielding a generally poorer fit\n"
     ]
    }
   ],
   "source": [
    "def P4():\n",
    "    ### STUDENT START ###\n",
    "    \n",
    "    labels = newsgroups_train.target_names\n",
    "    # preparing data for the CountVectorizer for monogram features\n",
    "    monogram_vectorizer = CountVectorizer(ngram_range=(1, 1), min_df=1)\n",
    "    train_data_Mono_vect = monogram_vectorizer.fit_transform(train_data)\n",
    "    Mono_featNames = monogram_vectorizer.get_feature_names()\n",
    "    \n",
    "    bigram_vectorizer = CountVectorizer(ngram_range=(2, 2), analyzer='word', min_df=1)\n",
    "    train_data_Bi_vect = bigram_vectorizer.fit_transform(train_data)\n",
    "    Bi_featNames = bigram_vectorizer.get_feature_names()\n",
    "    \n",
    "    # core logistic regression declaration\n",
    "    logf= LogisticRegression(penalty='l2', C=0.1)\n",
    "        \n",
    "    # a --- fitting the logistic model on a monogram feature data\n",
    "    log_fit= logf.fit(train_data_Mono_vect, train_labels) \n",
    "    # negate coeffs and use argsort to get descending sort, then pick top 5 words for each feature ( along axis 1)\n",
    "    sort_coeff =  np.argsort(-1.00000*(log_fit.coef_), axis=1)\n",
    "    top20wghts_coeff = sort_coeff[0:4, 0:5]\n",
    "    # flatten for easier looping\n",
    "    flat_coeff= top20wghts_coeff.flatten()\n",
    "\n",
    "    # print table of monogram fits\n",
    "    print '\\n| ', 'feature', ' |  ', labels[0], ' | ', labels[1],' | ', labels[2],' | ', labels[3],' |'\n",
    "    for idx in range(0, 20):\n",
    "        print Mono_featNames[flat_coeff[idx]], ' | ', log_fit.coef_[0,flat_coeff[idx]] , ' | ', log_fit.coef_[1,flat_coeff[idx]] ,' | ', log_fit.coef_[2,flat_coeff[idx]] ,' | ', log_fit.coef_[3,flat_coeff[idx]], ' |' \n",
    "            \n",
    "    # b --- fitting the logistic model on bigram  feature data\n",
    "    log_fit_b = logf.fit(train_data_Bi_vect, train_labels)\n",
    "    # negate coeffs and use argsort to get descending sort, then pick top 5 words for each feature ( along axis 1)\n",
    "    sort_coeff_b =  np.argsort(-1.00000*(log_fit_b.coef_), axis=1)\n",
    "    top20wghts_coeff_b = sort_coeff_b[0:4, 0:5]\n",
    "    # flatten for easier looping\n",
    "    flat_coeff_b= top20wghts_coeff_b.flatten()\n",
    "    \n",
    "    # print table of bigram fits\n",
    "    print '\\n| ', 'feature', ' |  ', labels[0], ' | ', labels[1],' | ', labels[2],' | ', labels[3],' |'\n",
    "    for idx in range(0, 20):\n",
    "        print Bi_featNames[flat_coeff_b[idx]], ' | ', log_fit_b.coef_[0,flat_coeff_b[idx]] , ' | ', log_fit_b.coef_[1,flat_coeff_b[idx]] ,' | ', log_fit_b.coef_[2,flat_coeff_b[idx]] ,' | ', log_fit_b.coef_[3,flat_coeff_b[idx]], ' |' \n",
    "    print '\\n Surprising result: With Bigrams lots of uninformative frequntly use English articles and prepositions, yielding a generally poorer fit'\n",
    "    ### STUDENT END ###\n",
    "P4()"
   ]
  },
  {
   "cell_type": "markdown",
   "metadata": {},
   "source": [
    "ANSWER:"
   ]
  },
  {
   "cell_type": "markdown",
   "metadata": {},
   "source": [
    "(5) Try to improve the logistic regression classifier by passing a custom preprocessor to CountVectorizer. The preprocessing function runs on the raw text, before it is split into words by the tokenizer. Your preprocessor should try to normalize the input in various ways to improve generalization. For example, try lowercasing everything, replacing sequences of numbers with a single token, removing various other non-letter characters, and shortening long words. If you're not already familiar with regular expressions for manipulating strings, see https://docs.python.org/2/library/re.html, and re.sub() in particular. With your new preprocessor, how much did you reduce the size of the dictionary?\n",
    "\n",
    "For reference, I was able to improve dev F1 by 2 points."
   ]
  },
  {
   "cell_type": "code",
   "execution_count": 182,
   "metadata": {
    "collapsed": false
   },
   "outputs": [
    {
     "name": "stdout",
     "output_type": "stream",
     "text": [
      "\n",
      "With preprocessing, f1 score: 0.688768654247 Without preprocessing, for same C, from P3, C: 0.01 f1 score: 0.697\n"
     ]
    }
   ],
   "source": [
    "def empty_preprocessor(s):\n",
    "    return s\n",
    "\n",
    "def better_preprocessor(s):\n",
    "### STUDENT START ###\n",
    "    # adapted from sci-kit example, replace numbers with a generic #\n",
    "    token_pattern = re.compile(u'(?u)\\\\b\\\\w\\\\w+\\\\b')\n",
    "    tokens = token_pattern.findall(s)\n",
    "    tokens = [\"#\" if token[0] in \"0123456789_\" else token\n",
    "              for token in tokens]\n",
    "    return tokens\n",
    "### STUDENT END ###\n",
    "\n",
    "def P5():\n",
    "### STUDENT START ###\n",
    "    # fitting with preprocessing\n",
    "    vectorizer = CountVectorizer(min_df=1, tokenizer= better_preprocessor)\n",
    "    train_data_vectorized = vectorizer.fit_transform(train_data)\n",
    "    dev_data_vectorized = vectorizer.transform(dev_data)\n",
    "\n",
    "    #logistic regression\n",
    "    logf= LogisticRegression(penalty='l2', C=0.1)\n",
    "    log_fit= logf.fit(train_data_vectorized, train_labels)\n",
    "    predlog =  log_fit.predict(dev_data_vectorized)\n",
    "    print '\\n', 'With preprocessing, f1 score:', metrics.f1_score(dev_labels, predlog, average='weighted'), 'Without preprocessing, for same C, from P3, C: 0.01 f1 score: 0.697'\n",
    "\n",
    "### STUDENT END ###\n",
    "P5()"
   ]
  },
  {
   "cell_type": "markdown",
   "metadata": {},
   "source": [
    "(6) The idea of regularization is to avoid learning very large weights (which are likely to fit the training data, but not generalize well) by adding a penalty to the total size of the learned weights. That is, logistic regression seeks the set of weights that minimizes errors in the training data AND has a small size. The default regularization, L2, computes this size as the sum of the squared weights (see P3, above). L1 regularization computes this size as the sum of the absolute values of the weights. The result is that whereas L2 regularization makes all the weights relatively small, L1 regularization drives lots of the weights to 0, effectively removing unimportant features.\n",
    "\n",
    "Train a logistic regression model using a \"l1\" penalty. Output the number of learned weights that are not equal to zero. How does this compare to the number of non-zero weights you get with \"l2\"? Now, reduce the size of the vocabulary by keeping only those features that have at least one non-zero weight and retrain a model using \"l2\".\n",
    "\n",
    "Make a plot showing accuracy of the re-trained model vs. the vocabulary size you get when pruning unused features by adjusting the C parameter.\n",
    "\n",
    "Note: The gradient descent code that trains the logistic regression model sometimes has trouble converging with extreme settings of the C parameter. Relax the convergence criteria by setting tol=.01 (the default is .0001)."
   ]
  },
  {
   "cell_type": "code",
   "execution_count": 179,
   "metadata": {
    "collapsed": false
   },
   "outputs": [
    {
     "name": "stdout",
     "output_type": "stream",
     "text": [
      "\n",
      " L1 C: 100000.0 non-zero coeffs: 106437 L2 non-zero coeffs: 107516\n",
      "\n",
      " L1 C: 10000.0 non-zero coeffs: 95802 L2 non-zero coeffs: 107516\n",
      "\n",
      " L1 C: 1000.0 non-zero coeffs: 62059 L2 non-zero coeffs: 107516\n",
      "\n",
      " L1 C: 100.0 non-zero coeffs: 17773 L2 non-zero coeffs: 107516\n",
      "\n",
      " L1 C: 10.0 non-zero coeffs: 4849 L2 non-zero coeffs: 107516\n",
      "\n",
      " L1 C: 1 non-zero coeffs: 1778 L2 non-zero coeffs: 107516\n",
      "\n",
      " L1 C: 0.1 non-zero coeffs: 359 L2 non-zero coeffs: 107516\n",
      "\n",
      " L1 C: 0.01 non-zero coeffs: 35 L2 non-zero coeffs: 107516\n",
      "\n",
      " L1 C: 0.001 non-zero coeffs: 5 L2 non-zero coeffs: 107516\n",
      "\n",
      " L1 C: 0.0001 non-zero coeffs: 0 L2 non-zero coeffs: 107516\n",
      "\n",
      " L1 C: 1e-05 non-zero coeffs: 0 L2 non-zero coeffs: 107516\n",
      "Non zero coefficients for L2 do not vary by C, while for L1 as C gets smaller, so does the feature space\n"
     ]
    }
   ],
   "source": [
    "def P6():\n",
    "    # Keep this random seed here to make comparison easier.\n",
    "    np.random.seed(0)\n",
    "\n",
    "    ### STUDENT START ###\n",
    "    # og_labels = newsgroups_train.target_names\n",
    "    \n",
    "    m_vectorizer = CountVectorizer(min_df=1)\n",
    "    train_data_vect = m_vectorizer.fit_transform(train_data)\n",
    "    dev_data_vect = m_vectorizer.transform(dev_data)\n",
    "    \n",
    "    featNames = m_vectorizer.get_feature_names()\n",
    "    \n",
    "    L1_nnz = []\n",
    "    L1_acc = []\n",
    "    \n",
    "    Cs = [1e5, 1e4, 1e3, 1e2, 1e1, 1, 1e-1, 1e-2, 1e-3, 1e-4, 1e-5]\n",
    "    for i in range (len(Cs)):\n",
    "        # l1 Regularization\n",
    "        l1_logf= LogisticRegression(penalty='l1', C=Cs[i],  tol=0.01)\n",
    "        l1_log_fit= l1_logf.fit(train_data_vect, train_labels)  \n",
    "        l1_predlog =  l1_log_fit.predict(dev_data_vect)\n",
    "        l1_nnz_coeffs = l1_log_fit.coef_.nonzero()\n",
    "        l1_vocab_nnz = np.array(l1_nnz_coeffs).shape[1]  \n",
    "        \n",
    "        #l2 regularization for comparison\n",
    "        l2_logf= LogisticRegression(penalty='l2', C=Cs[i],  tol=0.01)\n",
    "        l2_log_fit= l2_logf.fit(train_data_vect, train_labels)  \n",
    "        l2_predlog =  l2_log_fit.predict(dev_data_vect)\n",
    "        l2_nnz_coeffs = l2_log_fit.coef_.nonzero() \n",
    "        l2_vocab_nnz = np.array(l2_nnz_coeffs).shape[1] \n",
    "        #l1_acc = metrics.f1_score(dev_labels, l1_predlog, average='weighted')\n",
    "                                    \n",
    "                \n",
    "        L1_nnz = []\n",
    "        L1_acc = []\n",
    "        \n",
    "        print '\\n L1', 'C:', Cs[i], 'non-zero coeffs:',  l1_vocab_nnz ,'L2 non-zero coeffs:', l2_vocab_nnz                               \n",
    "        \n",
    "    print 'Non zero coefficients for L2 do not vary by C, while for L1 as C gets smaller, so does the feature space'\n",
    "    \n",
    "   \n",
    "    ### STUDENT END ###\n",
    "P6()"
   ]
  },
  {
   "cell_type": "markdown",
   "metadata": {},
   "source": [
    "(7) Use the TfidfVectorizer -- how is this different from the CountVectorizer? Train a logistic regression model with C=100.\n",
    "\n",
    "Make predictions on the dev data and show the top 3 documents where the ratio R is largest, where R is:\n",
    "\n",
    "maximum predicted probability / predicted probability of the correct label\n",
    "\n",
    "What kinds of mistakes is the model making? Suggest a way to address one particular issue that you see."
   ]
  },
  {
   "cell_type": "code",
   "execution_count": 175,
   "metadata": {
    "collapsed": false
   },
   "outputs": [
    {
     "name": "stdout",
     "output_type": "stream",
     "text": [
      "\n",
      "alt.atheism top 3 misclassifications \n",
      "\n",
      "33\n",
      "\n",
      "5011\n",
      "\n",
      "15m\n",
      "\n",
      "comp.graphics top 3 misclassifications \n",
      "\n",
      "101010\n",
      "\n",
      "58\n",
      "\n",
      "130\n",
      "\n",
      "sci.space top 3 misclassifications \n",
      "\n",
      "1024x768\n",
      "\n",
      "373\n",
      "\n",
      "391\n",
      "\n",
      "talk.religion.misc top 3 misclassifications \n",
      "\n",
      "150\n",
      "\n",
      "45g\n",
      "\n",
      "2000\n"
     ]
    }
   ],
   "source": [
    "def P7():\n",
    "### STUDENT START ###\n",
    "    og_labels = newsgroups_train.target_names \n",
    "\n",
    "    tfid_vectorizer = TfidfVectorizer(sublinear_tf=True, max_df=0.95, min_df=2, norm='l2', stop_words='english')\n",
    "    train_data_vect_t = tfid_vectorizer.fit_transform(train_data)\n",
    "    dev_data_vect_t = tfid_vectorizer.transform(dev_data)\n",
    "    fns =tfid_vectorizer.get_feature_names()\n",
    "     \n",
    "    # fitting and training logistic model\n",
    "    t_logf= LogisticRegression(penalty='l2', C=100)\n",
    "    t_log_fit= t_logf.fit(train_data_vect_t, train_labels)\n",
    "    t_predlog =  t_log_fit.predict(dev_data_vect_t)\n",
    "    \n",
    "    # computing R ratio from predicted probabilities\n",
    "    p_pred = t_log_fit.predict_proba(dev_data_vect_t)\n",
    "    p_pred_max = p_pred[np.argmax(p_pred, axis= 0)]\n",
    "    p_pred_max_flat = p_pred_max.flatten()\n",
    "    max_p =  p_pred_max_flat[np.argmax( p_pred_max_flat)]\n",
    "    \n",
    "    R = p_pred/max_p\n",
    "    \n",
    "    sort_R =  np.argsort(-1.00000*(R), axis=0)\n",
    "    top3_R = sort_R[0:4, 0:3]\n",
    "    # flatten for easier looping\n",
    "    flat_R= top3_R.flatten()\n",
    "\n",
    "    # print misclassifications\n",
    "    for idx in range(len(flat_R)):\n",
    "        if idx ==0:\n",
    "            print '\\n', og_labels[0] , 'top 3 misclassifications \\n'\n",
    "        elif idx==3:\n",
    "            print '\\n',og_labels[1] , 'top 3 misclassifications \\n'\n",
    "        elif idx==6:\n",
    "            print '\\n',og_labels[2] , 'top 3 misclassifications \\n'\n",
    "        elif idx==9:\n",
    "            print '\\n',og_labels[3] , 'top 3 misclassifications \\n'\n",
    "        else:\n",
    "            print ''\n",
    "            \n",
    "        print fns[flat_R[idx]]\n",
    "              \n",
    "    \n",
    "   \n",
    "    # print(classification_report(dev_labels, t_predlog, target_names= og_labels))\n",
    "    # print metrics.f1_score(dev_labels, t_predlog, average='weighted')\n",
    "    \n",
    "## STUDENT END ###\n",
    "P7()"
   ]
  },
  {
   "cell_type": "markdown",
   "metadata": {},
   "source": [
    "ANSWER: The model has a really hard time with numbers. Tokenizing numbers would improve performance. "
   ]
  },
  {
   "cell_type": "markdown",
   "metadata": {},
   "source": [
    "(8) EXTRA CREDIT\n",
    "\n",
    "Try implementing one of your ideas based on your error analysis. Use logistic regression as your underlying model."
   ]
  },
  {
   "cell_type": "code",
   "execution_count": null,
   "metadata": {
    "collapsed": true
   },
   "outputs": [],
   "source": []
  }
 ],
 "metadata": {
  "kernelspec": {
   "display_name": "Python 2",
   "language": "python",
   "name": "python2"
  },
  "language_info": {
   "codemirror_mode": {
    "name": "ipython",
    "version": 2
   },
   "file_extension": ".py",
   "mimetype": "text/x-python",
   "name": "python",
   "nbconvert_exporter": "python",
   "pygments_lexer": "ipython2",
   "version": "2.7.6"
  }
 },
 "nbformat": 4,
 "nbformat_minor": 0
}
